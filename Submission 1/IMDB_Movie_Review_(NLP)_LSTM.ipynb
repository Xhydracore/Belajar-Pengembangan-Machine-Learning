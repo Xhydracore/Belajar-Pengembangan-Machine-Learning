{
  "nbformat": 4,
  "nbformat_minor": 0,
  "metadata": {
    "colab": {
      "name": "IMDB Movie Review (NLP) LSTM.ipynb",
      "provenance": [],
      "collapsed_sections": [],
      "toc_visible": true
    },
    "kernelspec": {
      "name": "python3",
      "display_name": "Python 3"
    }
  },
  "cells": [
    {
      "cell_type": "markdown",
      "metadata": {
        "id": "mEsclGPxHzt2",
        "colab_type": "text"
      },
      "source": [
        "<table class=\"tfo-notebook-buttons\" align=\"center\">\n",
        "  <td>\n",
        "    <a target=\"_blank\" href=\"https://colab.research.google.com/drive/1E4ualtCve7qaOs8uWHGczK5OtPOGobhO?usp=sharing\">\n",
        "    <img src=\"https://www.tensorflow.org/images/colab_logo_32px.png\" />\n",
        "    Run in Google Colab</a>\n",
        "  </td>\n",
        "</table>"
      ]
    },
    {
      "cell_type": "markdown",
      "metadata": {
        "id": "ZDW34wyay486",
        "colab_type": "text"
      },
      "source": [
        "# **Import Data from Kaggle to Google Colab**"
      ]
    },
    {
      "cell_type": "code",
      "metadata": {
        "id": "kYVHwBIwyl27",
        "colab_type": "code",
        "colab": {
          "base_uri": "https://localhost:8080/",
          "height": 224
        },
        "outputId": "97a779e4-7228-4fb8-d259-a65523b56714"
      },
      "source": [
        "!pip install kaggle"
      ],
      "execution_count": null,
      "outputs": [
        {
          "output_type": "stream",
          "text": [
            "Requirement already satisfied: kaggle in /usr/local/lib/python3.6/dist-packages (1.5.6)\n",
            "Requirement already satisfied: python-dateutil in /usr/local/lib/python3.6/dist-packages (from kaggle) (2.8.1)\n",
            "Requirement already satisfied: certifi in /usr/local/lib/python3.6/dist-packages (from kaggle) (2020.6.20)\n",
            "Requirement already satisfied: requests in /usr/local/lib/python3.6/dist-packages (from kaggle) (2.23.0)\n",
            "Requirement already satisfied: tqdm in /usr/local/lib/python3.6/dist-packages (from kaggle) (4.41.1)\n",
            "Requirement already satisfied: six>=1.10 in /usr/local/lib/python3.6/dist-packages (from kaggle) (1.15.0)\n",
            "Requirement already satisfied: urllib3<1.25,>=1.21.1 in /usr/local/lib/python3.6/dist-packages (from kaggle) (1.24.3)\n",
            "Requirement already satisfied: python-slugify in /usr/local/lib/python3.6/dist-packages (from kaggle) (4.0.1)\n",
            "Requirement already satisfied: chardet<4,>=3.0.2 in /usr/local/lib/python3.6/dist-packages (from requests->kaggle) (3.0.4)\n",
            "Requirement already satisfied: idna<3,>=2.5 in /usr/local/lib/python3.6/dist-packages (from requests->kaggle) (2.10)\n",
            "Requirement already satisfied: text-unidecode>=1.3 in /usr/local/lib/python3.6/dist-packages (from python-slugify->kaggle) (1.3)\n"
          ],
          "name": "stdout"
        }
      ]
    },
    {
      "cell_type": "code",
      "metadata": {
        "id": "ydIsrXT10nbe",
        "colab_type": "code",
        "colab": {}
      },
      "source": [
        "from google.colab import files\n",
        "files.upload()"
      ],
      "execution_count": null,
      "outputs": []
    },
    {
      "cell_type": "code",
      "metadata": {
        "id": "OiUnJeoA0zMh",
        "colab_type": "code",
        "colab": {}
      },
      "source": [
        "!mkdir -p ~/.kaggle\n",
        "!cp kaggle.json ~/.kaggle/\n",
        "!chmod 600 ~/.kaggle/kaggle.json"
      ],
      "execution_count": null,
      "outputs": []
    },
    {
      "cell_type": "code",
      "metadata": {
        "id": "Xq7mP_p504uC",
        "colab_type": "code",
        "colab": {
          "base_uri": "https://localhost:8080/",
          "height": 68
        },
        "outputId": "93c071ac-f286-4502-e0f2-3b525d8cf48c"
      },
      "source": [
        "!kaggle datasets download -d lakshmi25npathi/imdb-dataset-of-50k-movie-reviews"
      ],
      "execution_count": null,
      "outputs": [
        {
          "output_type": "stream",
          "text": [
            "Downloading imdb-dataset-of-50k-movie-reviews.zip to /content\n",
            " 39% 10.0M/25.7M [00:00<00:00, 26.2MB/s]\n",
            "100% 25.7M/25.7M [00:00<00:00, 58.0MB/s]\n"
          ],
          "name": "stdout"
        }
      ]
    },
    {
      "cell_type": "code",
      "metadata": {
        "id": "C7FW4nnr1KRR",
        "colab_type": "code",
        "colab": {
          "base_uri": "https://localhost:8080/",
          "height": 34
        },
        "outputId": "c68dbffa-f666-4046-b4b0-a3fc8565323b"
      },
      "source": [
        "!ls"
      ],
      "execution_count": null,
      "outputs": [
        {
          "output_type": "stream",
          "text": [
            "imdb-dataset-of-50k-movie-reviews.zip  kaggle.json  sample_data\n"
          ],
          "name": "stdout"
        }
      ]
    },
    {
      "cell_type": "markdown",
      "metadata": {
        "id": "g57VylvQ5t3v",
        "colab_type": "text"
      },
      "source": [
        "# **Importing Necessary Libraries**"
      ]
    },
    {
      "cell_type": "code",
      "metadata": {
        "id": "gHJM-ga15w9L",
        "colab_type": "code",
        "colab": {
          "base_uri": "https://localhost:8080/",
          "height": 71
        },
        "outputId": "9a5bf1ab-e3e2-4b9f-ee61-2bf61f9c7554"
      },
      "source": [
        "import tensorflow as tf\n",
        "import pandas as pd\n",
        "import numpy as np\n",
        "import matplotlib.pyplot as plt\n",
        "import seaborn as sns\n",
        "from tensorflow.keras.preprocessing.text import Tokenizer\n",
        "from tensorflow.keras.preprocessing.sequence import pad_sequences\n",
        "from sklearn.preprocessing import LabelEncoder\n",
        "from sklearn.model_selection import train_test_split\n",
        "from keras.models import Sequential, load_model\n",
        "from keras.layers import Dense, Embedding, LSTM, Bidirectional,Flatten,Dropout\n",
        "from keras.utils.np_utils import to_categorical\n",
        "import re"
      ],
      "execution_count": null,
      "outputs": [
        {
          "output_type": "stream",
          "text": [
            "/usr/local/lib/python3.6/dist-packages/statsmodels/tools/_testing.py:19: FutureWarning: pandas.util.testing is deprecated. Use the functions in the public API at pandas.testing instead.\n",
            "  import pandas.util.testing as tm\n"
          ],
          "name": "stderr"
        }
      ]
    },
    {
      "cell_type": "markdown",
      "metadata": {
        "id": "iHzyuqmb1cW7",
        "colab_type": "text"
      },
      "source": [
        "# **Extract Files**"
      ]
    },
    {
      "cell_type": "code",
      "metadata": {
        "id": "R6TBEKW31bbH",
        "colab_type": "code",
        "colab": {
          "base_uri": "https://localhost:8080/"
        },
        "outputId": "2e4fe389-ae37-47ff-b9ef-08ddd58501a4"
      },
      "source": [
        "import zipfile\n",
        "zip_ref = zipfile.ZipFile('imdb-dataset-of-50k-movie-reviews.zip', 'r')\n",
        "zip_ref.extractall('files')\n",
        "zip_ref.close()\n",
        "\n",
        "df = pd.read_csv('/content/files/IMDB Dataset.csv')\n",
        "df"
      ],
      "execution_count": null,
      "outputs": [
        {
          "output_type": "execute_result",
          "data": {
            "text/html": [
              "<div>\n",
              "<style scoped>\n",
              "    .dataframe tbody tr th:only-of-type {\n",
              "        vertical-align: middle;\n",
              "    }\n",
              "\n",
              "    .dataframe tbody tr th {\n",
              "        vertical-align: top;\n",
              "    }\n",
              "\n",
              "    .dataframe thead th {\n",
              "        text-align: right;\n",
              "    }\n",
              "</style>\n",
              "<table border=\"1\" class=\"dataframe\">\n",
              "  <thead>\n",
              "    <tr style=\"text-align: right;\">\n",
              "      <th></th>\n",
              "      <th>review</th>\n",
              "      <th>sentiment</th>\n",
              "    </tr>\n",
              "  </thead>\n",
              "  <tbody>\n",
              "    <tr>\n",
              "      <th>0</th>\n",
              "      <td>One of the other reviewers has mentioned that ...</td>\n",
              "      <td>positive</td>\n",
              "    </tr>\n",
              "    <tr>\n",
              "      <th>1</th>\n",
              "      <td>A wonderful little production. &lt;br /&gt;&lt;br /&gt;The...</td>\n",
              "      <td>positive</td>\n",
              "    </tr>\n",
              "    <tr>\n",
              "      <th>2</th>\n",
              "      <td>I thought this was a wonderful way to spend ti...</td>\n",
              "      <td>positive</td>\n",
              "    </tr>\n",
              "    <tr>\n",
              "      <th>3</th>\n",
              "      <td>Basically there's a family where a little boy ...</td>\n",
              "      <td>negative</td>\n",
              "    </tr>\n",
              "    <tr>\n",
              "      <th>4</th>\n",
              "      <td>Petter Mattei's \"Love in the Time of Money\" is...</td>\n",
              "      <td>positive</td>\n",
              "    </tr>\n",
              "    <tr>\n",
              "      <th>...</th>\n",
              "      <td>...</td>\n",
              "      <td>...</td>\n",
              "    </tr>\n",
              "    <tr>\n",
              "      <th>49995</th>\n",
              "      <td>I thought this movie did a down right good job...</td>\n",
              "      <td>positive</td>\n",
              "    </tr>\n",
              "    <tr>\n",
              "      <th>49996</th>\n",
              "      <td>Bad plot, bad dialogue, bad acting, idiotic di...</td>\n",
              "      <td>negative</td>\n",
              "    </tr>\n",
              "    <tr>\n",
              "      <th>49997</th>\n",
              "      <td>I am a Catholic taught in parochial elementary...</td>\n",
              "      <td>negative</td>\n",
              "    </tr>\n",
              "    <tr>\n",
              "      <th>49998</th>\n",
              "      <td>I'm going to have to disagree with the previou...</td>\n",
              "      <td>negative</td>\n",
              "    </tr>\n",
              "    <tr>\n",
              "      <th>49999</th>\n",
              "      <td>No one expects the Star Trek movies to be high...</td>\n",
              "      <td>negative</td>\n",
              "    </tr>\n",
              "  </tbody>\n",
              "</table>\n",
              "<p>50000 rows × 2 columns</p>\n",
              "</div>"
            ],
            "text/plain": [
              "                                                  review sentiment\n",
              "0      One of the other reviewers has mentioned that ...  positive\n",
              "1      A wonderful little production. <br /><br />The...  positive\n",
              "2      I thought this was a wonderful way to spend ti...  positive\n",
              "3      Basically there's a family where a little boy ...  negative\n",
              "4      Petter Mattei's \"Love in the Time of Money\" is...  positive\n",
              "...                                                  ...       ...\n",
              "49995  I thought this movie did a down right good job...  positive\n",
              "49996  Bad plot, bad dialogue, bad acting, idiotic di...  negative\n",
              "49997  I am a Catholic taught in parochial elementary...  negative\n",
              "49998  I'm going to have to disagree with the previou...  negative\n",
              "49999  No one expects the Star Trek movies to be high...  negative\n",
              "\n",
              "[50000 rows x 2 columns]"
            ]
          },
          "metadata": {
            "tags": []
          },
          "execution_count": 7
        }
      ]
    },
    {
      "cell_type": "markdown",
      "metadata": {
        "id": "Bo0Y6YPx_WvO",
        "colab_type": "text"
      },
      "source": [
        "# **Visualizing Data**"
      ]
    },
    {
      "cell_type": "code",
      "metadata": {
        "id": "7L6uCLVK_YnF",
        "colab_type": "code",
        "colab": {
          "base_uri": "https://localhost:8080/",
          "height": 296
        },
        "outputId": "b1b134a0-1128-488a-def8-71f5d57aa9af"
      },
      "source": [
        "negative = len(df[df['sentiment']=='positive'])\n",
        "positive = len(df) - negative\n",
        "sns.countplot(df['sentiment'])\n",
        "print('Positive reviews are {} and negative reviews are {} of total {} '.format(positive,negative,len(df)))"
      ],
      "execution_count": null,
      "outputs": [
        {
          "output_type": "stream",
          "text": [
            "Positive reviews are 25000 and negative reviews are 25000 of total 50000 \n"
          ],
          "name": "stdout"
        },
        {
          "output_type": "display_data",
          "data": {
            "image/png": "[encoded data removed]",
            "text/plain": [
              "<Figure size 432x288 with 1 Axes>"
            ]
          },
          "metadata": {
            "tags": [],
            "needs_background": "light"
          }
        }
      ]
    },
    {
      "cell_type": "markdown",
      "metadata": {
        "id": "nRFGAWdbSFSE",
        "colab_type": "text"
      },
      "source": [
        "Converting the labels positive and negative as 1,0 so that they can be fed to the neural network to predict whether the given review is a positive or negative. Splitting of data 80% for the training and remaining 20% for testing."
      ]
    },
    {
      "cell_type": "code",
      "metadata": {
        "id": "HVy3bAtELp__",
        "colab_type": "code",
        "colab": {}
      },
      "source": [
        "le = LabelEncoder()\n",
        "training_reviews,testing_reviews,training_labels,testing_labels  = train_test_split(df['review'].values,df['sentiment'].values,test_size = 0.2)\n",
        "training_labels = le.fit_transform(training_labels)\n",
        "testing_labels = le.fit_transform(testing_labels)"
      ],
      "execution_count": null,
      "outputs": []
    },
    {
      "cell_type": "markdown",
      "metadata": {
        "id": "V5Pu7JUTFZBj",
        "colab_type": "text"
      },
      "source": [
        "# **Pre-Processing The Text**\n"
      ]
    },
    {
      "cell_type": "markdown",
      "metadata": {
        "id": "GySqB3ffL3D8",
        "colab_type": "text"
      },
      "source": [
        "Functions to pre-process the review text using Natural Language Processing techniques as they contain unwanted elements."
      ]
    },
    {
      "cell_type": "code",
      "metadata": {
        "id": "H1RkqzfFCDUJ",
        "colab_type": "code",
        "colab": {
          "base_uri": "https://localhost:8080/"
        },
        "outputId": "6783202f-fe97-4277-ead9-22555f3534d9"
      },
      "source": [
        "def remove_special_chars(tweets):\n",
        "        alphanumeric=\"\"\n",
        "        for character in tweets:\n",
        "            if character.isalpha() or character==\" \":\n",
        "                alphanumeric += character\n",
        "        return alphanumeric\n",
        "def remove_tags(text):\n",
        "     return re.compile(r\"<[^>]+>\").sub(\" \", text)\n",
        "def remove_num(text):\n",
        "     return \"\".join(re.sub(r\"([0–9]+)\",\" \",text))\n",
        "df.review=df.review.apply(lambda x : remove_tags(x))\n",
        "df.review=df.review.apply(lambda x : remove_num(x))\n",
        "df.review=(df.review).apply(remove_special_chars)\n",
        "df.head()"
      ],
      "execution_count": null,
      "outputs": [
        {
          "output_type": "execute_result",
          "data": {
            "text/html": [
              "<div>\n",
              "<style scoped>\n",
              "    .dataframe tbody tr th:only-of-type {\n",
              "        vertical-align: middle;\n",
              "    }\n",
              "\n",
              "    .dataframe tbody tr th {\n",
              "        vertical-align: top;\n",
              "    }\n",
              "\n",
              "    .dataframe thead th {\n",
              "        text-align: right;\n",
              "    }\n",
              "</style>\n",
              "<table border=\"1\" class=\"dataframe\">\n",
              "  <thead>\n",
              "    <tr style=\"text-align: right;\">\n",
              "      <th></th>\n",
              "      <th>review</th>\n",
              "      <th>sentiment</th>\n",
              "    </tr>\n",
              "  </thead>\n",
              "  <tbody>\n",
              "    <tr>\n",
              "      <th>0</th>\n",
              "      <td>One of the other reviewers has mentioned that ...</td>\n",
              "      <td>positive</td>\n",
              "    </tr>\n",
              "    <tr>\n",
              "      <th>1</th>\n",
              "      <td>A wonderful little production   The filming te...</td>\n",
              "      <td>positive</td>\n",
              "    </tr>\n",
              "    <tr>\n",
              "      <th>2</th>\n",
              "      <td>I thought this was a wonderful way to spend ti...</td>\n",
              "      <td>positive</td>\n",
              "    </tr>\n",
              "    <tr>\n",
              "      <th>3</th>\n",
              "      <td>Basically theres a family where a little boy J...</td>\n",
              "      <td>negative</td>\n",
              "    </tr>\n",
              "    <tr>\n",
              "      <th>4</th>\n",
              "      <td>Petter Matteis Love in the Time of Money is a ...</td>\n",
              "      <td>positive</td>\n",
              "    </tr>\n",
              "  </tbody>\n",
              "</table>\n",
              "</div>"
            ],
            "text/plain": [
              "                                              review sentiment\n",
              "0  One of the other reviewers has mentioned that ...  positive\n",
              "1  A wonderful little production   The filming te...  positive\n",
              "2  I thought this was a wonderful way to spend ti...  positive\n",
              "3  Basically theres a family where a little boy J...  negative\n",
              "4  Petter Matteis Love in the Time of Money is a ...  positive"
            ]
          },
          "metadata": {
            "tags": []
          },
          "execution_count": 13
        }
      ]
    },
    {
      "cell_type": "markdown",
      "metadata": {
        "id": "SOk-cE1GLdor",
        "colab_type": "text"
      },
      "source": [
        "Using tokenizer to produce token for a given word and taking maximum length of 200 character of a review and after we simply truncate the input review and then padded the input to max len of 200."
      ]
    },
    {
      "cell_type": "code",
      "metadata": {
        "id": "dOI3hWrZOm7W",
        "colab_type": "code",
        "colab": {
          "base_uri": "https://localhost:8080/",
          "height": 34
        },
        "outputId": "388d5790-65c6-4c2e-ca43-85897deb91f3"
      },
      "source": [
        "tokenizer = Tokenizer(num_words=10000,oov_token='<OOV>')\n",
        "tokenizer.fit_on_texts(training_reviews)\n",
        "word_index = tokenizer.word_index\n",
        "vocab_size = len(word_index) + 1\n",
        "training_sequence = tokenizer.texts_to_sequences(training_reviews)\n",
        "testing_sequence = tokenizer.texts_to_sequences(testing_reviews)\n",
        "train_pad_sequence = pad_sequences(training_sequence,maxlen = 500,truncating= 'post',padding = 'pre')\n",
        "test_pad_sequence = pad_sequences(testing_sequence,maxlen = 500,truncating= 'post',padding = 'pre')\n",
        "print('Total Unique Words : {}'.format(len(word_index)))"
      ],
      "execution_count": null,
      "outputs": [
        {
          "output_type": "stream",
          "text": [
            "Total Unique Words : 112276\n"
          ],
          "name": "stdout"
        }
      ]
    },
    {
      "cell_type": "markdown",
      "metadata": {
        "id": "JIJSpyFXgIC3",
        "colab_type": "text"
      },
      "source": [
        "Using glove vectors for embedding"
      ]
    },
    {
      "cell_type": "code",
      "metadata": {
        "id": "SrRn-LMvgG_M",
        "colab_type": "code",
        "colab": {
          "base_uri": "https://localhost:8080/",
          "height": 357
        },
        "outputId": "76f69844-d90a-4bbd-e5ab-a700d8ccc2e6"
      },
      "source": [
        "!wget http://nlp.stanford.edu/data/glove.6B.zip"
      ],
      "execution_count": null,
      "outputs": [
        {
          "output_type": "stream",
          "text": [
            "--2020-09-08 11:36:34--  http://nlp.stanford.edu/data/glove.6B.zip\n",
            "Resolving nlp.stanford.edu (nlp.stanford.edu)... 171.64.67.140\n",
            "Connecting to nlp.stanford.edu (nlp.stanford.edu)|171.64.67.140|:80... connected.\n",
            "HTTP request sent, awaiting response... 302 Found\n",
            "Location: https://nlp.stanford.edu/data/glove.6B.zip [following]\n",
            "--2020-09-08 11:36:34--  https://nlp.stanford.edu/data/glove.6B.zip\n",
            "Connecting to nlp.stanford.edu (nlp.stanford.edu)|171.64.67.140|:443... connected.\n",
            "HTTP request sent, awaiting response... 301 Moved Permanently\n",
            "Location: http://downloads.cs.stanford.edu/nlp/data/glove.6B.zip [following]\n",
            "--2020-09-08 11:36:34--  http://downloads.cs.stanford.edu/nlp/data/glove.6B.zip\n",
            "Resolving downloads.cs.stanford.edu (downloads.cs.stanford.edu)... 171.64.64.22\n",
            "Connecting to downloads.cs.stanford.edu (downloads.cs.stanford.edu)|171.64.64.22|:80... connected.\n",
            "HTTP request sent, awaiting response... 200 OK\n",
            "Length: 862182613 (822M) [application/zip]\n",
            "Saving to: ‘glove.6B.zip’\n",
            "\n",
            "glove.6B.zip        100%[===================>] 822.24M  2.07MB/s    in 6m 27s  \n",
            "\n",
            "2020-09-08 11:43:01 (2.13 MB/s) - ‘glove.6B.zip’ saved [862182613/862182613]\n",
            "\n"
          ],
          "name": "stdout"
        }
      ]
    },
    {
      "cell_type": "code",
      "metadata": {
        "id": "QlnuSqYHgOyd",
        "colab_type": "code",
        "colab": {
          "base_uri": "https://localhost:8080/",
          "height": 153
        },
        "outputId": "0d42529c-726b-42d9-aaa9-390928979c62"
      },
      "source": [
        "!unzip glove*.zip\n",
        "!ls"
      ],
      "execution_count": null,
      "outputs": [
        {
          "output_type": "stream",
          "text": [
            "Archive:  glove.6B.zip\n",
            "  inflating: glove.6B.50d.txt        \n",
            "  inflating: glove.6B.100d.txt       \n",
            "  inflating: glove.6B.200d.txt       \n",
            "  inflating: glove.6B.300d.txt       \n",
            "files\t\t   glove.6B.300d.txt  imdb-dataset-of-50k-movie-reviews.zip\n",
            "glove.6B.100d.txt  glove.6B.50d.txt   kaggle.json\n",
            "glove.6B.200d.txt  glove.6B.zip       sample_data\n"
          ],
          "name": "stdout"
        }
      ]
    },
    {
      "cell_type": "code",
      "metadata": {
        "id": "zxdsVwmGh_6f",
        "colab_type": "code",
        "colab": {}
      },
      "source": [
        "embedded_words = {}\n",
        "with open ('/content/glove.6B.200d.txt') as file:\n",
        "  for line in file:\n",
        "    words, coeff = line.split(maxsplit=1)\n",
        "    coeff = np.array(coeff.split(),dtype = float)\n",
        "    embedded_words[words] = coeff"
      ],
      "execution_count": null,
      "outputs": []
    },
    {
      "cell_type": "code",
      "metadata": {
        "id": "IijXtY8oil5k",
        "colab_type": "code",
        "colab": {}
      },
      "source": [
        "embedding_matrix = np.zeros((len(word_index) + 1,200))\n",
        "for word, i in word_index.items():\n",
        "  embedding_vector = embedded_words.get(word)\n",
        "  if embedding_vector is not None:\n",
        "    embedding_matrix[i] = embedding_vector"
      ],
      "execution_count": null,
      "outputs": []
    },
    {
      "cell_type": "markdown",
      "metadata": {
        "id": "RoYJO4IVUyb_",
        "colab_type": "text"
      },
      "source": [
        "# **Design a sequential model using Keras. Add different layers such as embedding layer, Bi-LSTM layer and a dense layer.**"
      ]
    },
    {
      "cell_type": "code",
      "metadata": {
        "id": "V7uXoNXgU19Q",
        "colab_type": "code",
        "colab": {
          "base_uri": "https://localhost:8080/",
          "height": 391
        },
        "outputId": "534f77bc-47b7-458e-fc8a-7b274d8c7f26"
      },
      "source": [
        "model = tf.keras.Sequential([tf.keras.layers.Embedding(len(word_index) + 1,200,weights=[embedding_matrix],input_length=500,\n",
        "                            trainable=False),\n",
        "                             tf.keras.layers.Bidirectional(tf.keras.layers.LSTM(64)),\n",
        "                             tf.keras.layers.Dropout(0.5),\n",
        "                             tf.keras.layers.Dense(256,activation = 'relu',),\n",
        "                             tf.keras.layers.Dense(128,activation = 'relu'),\n",
        "                             tf.keras.layers.Dropout(0.5),\n",
        "                             tf.keras.layers.Dense(1,activation = tf.nn.sigmoid)])\n",
        "model.summary()"
      ],
      "execution_count": null,
      "outputs": [
        {
          "output_type": "stream",
          "text": [
            "Model: \"sequential_3\"\n",
            "_________________________________________________________________\n",
            "Layer (type)                 Output Shape              Param #   \n",
            "=================================================================\n",
            "embedding_2 (Embedding)      (None, 500, 200)          22455400  \n",
            "_________________________________________________________________\n",
            "bidirectional_2 (Bidirection (None, 128)               135680    \n",
            "_________________________________________________________________\n",
            "dropout_4 (Dropout)          (None, 128)               0         \n",
            "_________________________________________________________________\n",
            "dense_6 (Dense)              (None, 256)               33024     \n",
            "_________________________________________________________________\n",
            "dense_7 (Dense)              (None, 128)               32896     \n",
            "_________________________________________________________________\n",
            "dropout_5 (Dropout)          (None, 128)               0         \n",
            "_________________________________________________________________\n",
            "dense_8 (Dense)              (None, 1)                 129       \n",
            "=================================================================\n",
            "Total params: 22,657,129\n",
            "Trainable params: 201,729\n",
            "Non-trainable params: 22,455,400\n",
            "_________________________________________________________________\n"
          ],
          "name": "stdout"
        }
      ]
    },
    {
      "cell_type": "code",
      "metadata": {
        "id": "mSW0N0nxc_1H",
        "colab_type": "code",
        "colab": {
          "base_uri": "https://localhost:8080/",
          "height": 530
        },
        "outputId": "4faaae45-74e0-4070-a0e6-759a51d81b59"
      },
      "source": [
        "from keras.callbacks import EarlyStopping\n",
        "es = EarlyStopping(monitor='val_loss', mode='min', verbose=1, patience=5)\n",
        "model.compile(optimizer='Adam', loss='binary_crossentropy', metrics=['accuracy'])\n",
        "history = model.fit(train_pad_sequence,training_labels, epochs = 30, callbacks=[es], validation_data=(test_pad_sequence,testing_labels))"
      ],
      "execution_count": null,
      "outputs": [
        {
          "output_type": "stream",
          "text": [
            "Epoch 1/30\n",
            "1250/1250 [==============================] - 594s 475ms/step - loss: 0.4901 - accuracy: 0.7585 - val_loss: 0.3212 - val_accuracy: 0.8660\n",
            "Epoch 2/30\n",
            "1250/1250 [==============================] - 596s 476ms/step - loss: 0.3231 - accuracy: 0.8688 - val_loss: 0.2931 - val_accuracy: 0.8775\n",
            "Epoch 3/30\n",
            "1250/1250 [==============================] - 598s 478ms/step - loss: 0.2878 - accuracy: 0.8830 - val_loss: 0.2643 - val_accuracy: 0.8918\n",
            "Epoch 4/30\n",
            "1250/1250 [==============================] - 598s 479ms/step - loss: 0.2635 - accuracy: 0.8937 - val_loss: 0.2750 - val_accuracy: 0.8865\n",
            "Epoch 5/30\n",
            "1250/1250 [==============================] - 592s 474ms/step - loss: 0.2458 - accuracy: 0.9023 - val_loss: 0.2605 - val_accuracy: 0.8965\n",
            "Epoch 6/30\n",
            "1250/1250 [==============================] - 592s 474ms/step - loss: 0.2242 - accuracy: 0.9122 - val_loss: 0.2545 - val_accuracy: 0.9002\n",
            "Epoch 7/30\n",
            "1250/1250 [==============================] - 593s 475ms/step - loss: 0.2116 - accuracy: 0.9194 - val_loss: 0.2618 - val_accuracy: 0.8944\n",
            "Epoch 8/30\n",
            "1250/1250 [==============================] - 594s 475ms/step - loss: 0.1950 - accuracy: 0.9257 - val_loss: 0.2510 - val_accuracy: 0.9002\n",
            "Epoch 9/30\n",
            "1250/1250 [==============================] - 594s 475ms/step - loss: 0.1947 - accuracy: 0.9259 - val_loss: 0.2488 - val_accuracy: 0.8999\n",
            "Epoch 10/30\n",
            "1250/1250 [==============================] - 595s 476ms/step - loss: 0.1745 - accuracy: 0.9338 - val_loss: 0.2534 - val_accuracy: 0.9020\n",
            "Epoch 11/30\n",
            "1250/1250 [==============================] - 594s 475ms/step - loss: 0.1578 - accuracy: 0.9398 - val_loss: 0.2712 - val_accuracy: 0.9051\n",
            "Epoch 12/30\n",
            "1250/1250 [==============================] - 595s 476ms/step - loss: 0.1426 - accuracy: 0.9472 - val_loss: 0.2731 - val_accuracy: 0.9023\n",
            "Epoch 13/30\n",
            "1250/1250 [==============================] - 596s 477ms/step - loss: 0.1301 - accuracy: 0.9523 - val_loss: 0.2854 - val_accuracy: 0.9010\n",
            "Epoch 14/30\n",
            "1250/1250 [==============================] - 600s 480ms/step - loss: 0.1167 - accuracy: 0.9574 - val_loss: 0.3027 - val_accuracy: 0.8954\n",
            "Epoch 00014: early stopping\n"
          ],
          "name": "stdout"
        }
      ]
    },
    {
      "cell_type": "markdown",
      "metadata": {
        "id": "1YLaqJ7xGZ7N",
        "colab_type": "text"
      },
      "source": [
        "# **Plotting Accuracy and Losses**"
      ]
    },
    {
      "cell_type": "code",
      "metadata": {
        "id": "bcymMjMUFVje",
        "colab_type": "code",
        "colab": {
          "base_uri": "https://localhost:8080/",
          "height": 545
        },
        "outputId": "74456b4d-b0b5-4ecc-d81f-aabb6cb4edd2"
      },
      "source": [
        "acc = history.history['accuracy']\n",
        "val_acc = history.history['val_accuracy']\n",
        "loss = history.history['loss']\n",
        "val_loss = history.history['val_loss']\n",
        "epochs = range(len(acc))\n",
        "\n",
        "plt.plot(epochs, acc, 'r', label='Training accuracy')\n",
        "plt.plot(epochs, val_acc, 'b', label='Validation accuracy')\n",
        "plt.title('Training and validation accuracy')\n",
        "plt.legend(loc=0)\n",
        "plt.figure()\n",
        "\n",
        "plt.plot(epochs, loss, 'r', label='Training loss')\n",
        "plt.plot(epochs, val_loss, 'b', label='Validation loss')\n",
        "plt.title('Training and validation loss')\n",
        "plt.legend(loc=0)\n",
        "\n",
        "plt.show()"
      ],
      "execution_count": null,
      "outputs": [
        {
          "output_type": "display_data",
          "data": {
            "image/png": "[encoded data removed]",
            "text/plain": [
              "<Figure size 432x288 with 1 Axes>"
            ]
          },
          "metadata": {
            "tags": [],
            "needs_background": "light"
          }
        },
        {
          "output_type": "display_data",
          "data": {
            "image/png": "[encoded data removed]",
            "text/plain": [
              "<Figure size 432x288 with 1 Axes>"
            ]
          },
          "metadata": {
            "tags": [],
            "needs_background": "light"
          }
        }
      ]
    },
    {
      "cell_type": "code",
      "metadata": {
        "id": "IKirS4d-FkD9",
        "colab_type": "code",
        "colab": {
          "base_uri": "https://localhost:8080/",
          "height": 51
        },
        "outputId": "9fb22fa7-8e14-4065-d211-737958701240"
      },
      "source": [
        "print('Training Accuracy: {}'.format(max(acc)))\n",
        "print('Validation Accuracy: {}'.format(max(val_acc)))"
      ],
      "execution_count": null,
      "outputs": [
        {
          "output_type": "stream",
          "text": [
            "Training Accuracy: 0.9573749899864197\n",
            "Validation Accuracy: 0.9050999879837036\n"
          ],
          "name": "stdout"
        }
      ]
    }
  ]
}